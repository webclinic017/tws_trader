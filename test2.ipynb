{
 "cells": [
  {
   "cell_type": "markdown",
   "metadata": {},
   "source": [
    "Цель этого ноутбука - посмотреть, какие минимальные barsize в исторических данных от брокера для различных типов контрактов. Есть идея организовать базу данных с данными одного универсального (самого маленького) размера barsize."
   ]
  },
  {
   "cell_type": "code",
   "execution_count": 1,
   "metadata": {},
   "outputs": [],
   "source": [
    "import time\n",
    "\n",
    "from ib.ext.ContractDetails import ContractDetails\n",
    "from ib.ext.EClientSocket import EClientSocket\n",
    "from ib.opt import message\n",
    "import numpy as np\n",
    "import pandas as pd\n",
    "\n",
    "import contracts\n",
    "from settings import TWS_CONNECTION, company"
   ]
  },
  {
   "cell_type": "code",
   "execution_count": 2,
   "metadata": {},
   "outputs": [],
   "source": [
    "# Типы контрактов:\n",
    "contract_types = [\n",
    "    'CASH',\n",
    "    'STK',\n",
    "    'IND',\n",
    "    'CFD',\n",
    "    'FUT',\n",
    "    'CONTFUT',\n",
    "    'FUT+CONTFUT',\n",
    "    'OPT',\n",
    "    'FOP',\n",
    "    'BOND',\n",
    "    'FUND',\n",
    "    'CMDTY',\n",
    "    'IOPT'\n",
    "]"
   ]
  },
  {
   "cell_type": "code",
   "execution_count": 10,
   "metadata": {},
   "outputs": [],
   "source": [
    "def test_historical_getter(contract, barsize):\n",
    "        res = []\n",
    "        \n",
    "#         TWS_CONNECTION.register(print, message.Error)\n",
    "        TWS_CONNECTION.registerAll(print)\n",
    "        TWS_CONNECTION.register(\n",
    "            lambda x: res.append([\n",
    "                ' '.join(x.date.split()),\n",
    "                x.open,\n",
    "                x.high,\n",
    "                x.low,\n",
    "                x.close,\n",
    "                x.volume\n",
    "            ]),\n",
    "            message.historicalData\n",
    "        )\n",
    "        TWS_CONNECTION.connect()\n",
    "        TWS_CONNECTION.reqHistoricalData(\n",
    "            1,\n",
    "            contract,\n",
    "            '',\n",
    "            '1 D',\n",
    "            '30 mins',\n",
    "            contract.historical_data_type,\n",
    "            1,\n",
    "            1\n",
    "        )\n",
    "        time.sleep(15)\n",
    "        TWS_CONNECTION.disconnect()\n",
    "        res = res[:-1]\n",
    "        return res"
   ]
  },
  {
   "cell_type": "code",
   "execution_count": 8,
   "metadata": {},
   "outputs": [
    {
     "name": "stdout",
     "output_type": "stream",
     "text": [
      "Server Version: 76\n",
      "TWS Time at connection:20200414 21:44:41 PST\n",
      "[['20200414 06:30:00', 280.01, 285.98, 278.05, 285.88, 74742], ['20200414 07:00:00', 285.9, 286.2, 283.6, 284.75, 42554], ['20200414 07:30:00', 284.73, 285.65, 284.1, 284.19, 28100], ['20200414 08:00:00', 284.19, 284.92, 282.63, 283.9, 26492], ['20200414 08:30:00', 283.87, 284.82, 283.86, 284.26, 16819], ['20200414 09:00:00', 284.28, 286.31, 284.28, 285.71, 20902], ['20200414 09:30:00', 285.71, 286.54, 285.54, 286.0, 17908], ['20200414 10:00:00', 286.01, 286.34, 285.26, 286.32, 12799], ['20200414 10:30:00', 286.33, 287.73, 286.25, 287.29, 20003], ['20200414 11:00:00', 287.31, 288.04, 287.04, 287.64, 14156], ['20200414 11:30:00', 287.64, 288.0, 286.69, 287.8, 16295], ['20200414 12:00:00', 287.8, 287.8, 285.67, 286.99, 23079], ['20200414 12:30:00', 286.95, 288.25, 286.21, 287.07, 39644]]\n"
     ]
    },
    {
     "data": {
      "text/plain": [
       "['20200414 06:30:00', 280.01, 285.98, 278.05, 285.88, 74742]"
      ]
     },
     "execution_count": 8,
     "metadata": {},
     "output_type": "execute_result"
    }
   ],
   "source": [
    "symbol = 'AAPL'\n",
    "barsize = '1 secs' #, '5 secs', '10 secs', '15 secs', '30 secs', '1 min', '2 mins', '3 mins', '5 mins', '10 mins', '15 mins', '20 mins', '30 mins', '1 hour', '2 hours', '3 hours', '4 hours', '8 hours', '1 day', '1 week', '1 month'\n",
    "contract = contracts.Stock(symbol)\n",
    "res = test_historical_getter(contract, barsize)\n",
    "res[0]"
   ]
  },
  {
   "cell_type": "code",
   "execution_count": 19,
   "metadata": {},
   "outputs": [
    {
     "name": "stdout",
     "output_type": "stream",
     "text": [
      "Server Version: 76\n",
      "TWS Time at connection:20200414 21:58:35 PST\n",
      "<managedAccounts accountsList=U2296624>\n",
      "<nextValidId orderId=1>\n",
      "<error id=-1, errorCode=2104, errorMsg=Market data farm connection is OK:cashfarm>\n",
      "<error id=-1, errorCode=2104, errorMsg=Market data farm connection is OK:usopt>\n",
      "<error id=-1, errorCode=2104, errorMsg=Market data farm connection is OK:usfarm>\n",
      "<error id=-1, errorCode=2106, errorMsg=HMDS data farm connection is OK:euhmds>\n",
      "<error id=-1, errorCode=2106, errorMsg=HMDS data farm connection is OK:cashhmds>\n",
      "<error id=-1, errorCode=2106, errorMsg=HMDS data farm connection is OK:ushmds>\n",
      "<historicalData reqId=1, date=20200414  06:30:00, open=67.46, high=67.46, low=44.75, close=49.25, volume=99, count=39, WAP=51.895, hasGaps=False>\n",
      "<historicalData reqId=1, date=20200414  07:00:00, open=49.7, high=50.5, low=41.45, close=43.98, volume=142, count=45, WAP=43.424, hasGaps=False>\n",
      "<historicalData reqId=1, date=20200414  07:30:00, open=44.15, high=45.0, low=42.0, close=44.85, volume=159, count=56, WAP=43.167, hasGaps=False>\n",
      "<historicalData reqId=1, date=20200414  08:00:00, open=46.1, high=56.9, low=45.2, close=47.4, volume=170, count=67, WAP=51.345, hasGaps=False>\n",
      "<historicalData reqId=1, date=20200414  08:30:00, open=47.6, high=47.6, low=42.5, close=43.58, volume=30, count=14, WAP=44.643, hasGaps=False>\n",
      "<historicalData reqId=1, date=20200414  09:00:00, open=42.0, high=45.0, low=40.6, close=42.7, volume=120, count=54, WAP=42.835, hasGaps=False>\n",
      "<historicalData reqId=1, date=20200414  09:30:00, open=42.3, high=42.5, low=38.3, close=38.6, volume=101, count=46, WAP=39.292, hasGaps=False>\n",
      "<historicalData reqId=1, date=20200414  10:00:00, open=39.0, high=41.75, low=38.75, close=39.42, volume=216, count=76, WAP=39.917, hasGaps=False>\n",
      "<historicalData reqId=1, date=20200414  10:30:00, open=37.5, high=39.0, low=36.05, close=36.5, volume=42, count=25, WAP=37.154, hasGaps=False>\n",
      "<historicalData reqId=1, date=20200414  11:00:00, open=36.7, high=40.5, low=36.7, close=40.5, volume=120, count=61, WAP=38.786, hasGaps=False>\n",
      "<historicalData reqId=1, date=20200414  11:30:00, open=40.5, high=49.55, low=40.0, close=41.51, volume=445, count=93, WAP=43.945, hasGaps=False>\n",
      "<historicalData reqId=1, date=20200414  12:00:00, open=43.1, high=51.75, low=43.1, close=47.55, volume=168, count=66, WAP=48.435, hasGaps=False>\n",
      "<historicalData reqId=1, date=20200414  12:30:00, open=48.5, high=56.0, low=46.7, close=52.0, volume=154, count=67, WAP=49.492, hasGaps=False>\n",
      "<historicalData reqId=1, date=finished-20200413  21:58:35-20200414  21:58:35, open=-1, high=-1, low=-1, close=-1, volume=-1, count=-1, WAP=-1, hasGaps=False>\n",
      "[['20200414 06:30:00', 67.46, 67.46, 44.75, 49.25, 99], ['20200414 07:00:00', 49.7, 50.5, 41.45, 43.98, 142], ['20200414 07:30:00', 44.15, 45.0, 42.0, 44.85, 159], ['20200414 08:00:00', 46.1, 56.9, 45.2, 47.4, 170], ['20200414 08:30:00', 47.6, 47.6, 42.5, 43.58, 30], ['20200414 09:00:00', 42.0, 45.0, 40.6, 42.7, 120], ['20200414 09:30:00', 42.3, 42.5, 38.3, 38.6, 101], ['20200414 10:00:00', 39.0, 41.75, 38.75, 39.42, 216], ['20200414 10:30:00', 37.5, 39.0, 36.05, 36.5, 42], ['20200414 11:00:00', 36.7, 40.5, 36.7, 40.5, 120], ['20200414 11:30:00', 40.5, 49.55, 40.0, 41.51, 445], ['20200414 12:00:00', 43.1, 51.75, 43.1, 47.55, 168], ['20200414 12:30:00', 48.5, 56.0, 46.7, 52.0, 154]]\n"
     ]
    },
    {
     "data": {
      "text/plain": [
       "[['20200414 06:30:00', 67.46, 67.46, 44.75, 49.25, 99],\n",
       " ['20200414 07:00:00', 49.7, 50.5, 41.45, 43.98, 142],\n",
       " ['20200414 07:30:00', 44.15, 45.0, 42.0, 44.85, 159],\n",
       " ['20200414 08:00:00', 46.1, 56.9, 45.2, 47.4, 170],\n",
       " ['20200414 08:30:00', 47.6, 47.6, 42.5, 43.58, 30]]"
      ]
     },
     "execution_count": 19,
     "metadata": {},
     "output_type": "execute_result"
    }
   ],
   "source": [
    "symbol = 'TSLA'\n",
    "barsize = '10 mins'\n",
    "# '1 secs', '5 secs', '10 secs', '15 secs', '30 secs', '1 min', '2 mins', '3 mins', '5 mins', '10 mins', '15 mins', '20 mins', '30 mins', '1 hour', '2 hours', '3 hours', '4 hours', '8 hours', '1 day', '1 week', '1 month'\n",
    "contract = contracts.OptionPut(symbol, '20200417', 750.)\n",
    "res = test_historical_getter(contract, barsize)\n",
    "res[:5]"
   ]
  },
  {
   "cell_type": "code",
   "execution_count": 13,
   "metadata": {},
   "outputs": [
    {
     "data": {
      "text/plain": [
       "[['20200414 12:30:00', 2.08, 2.1, 2.01, 2.06, 204]]"
      ]
     },
     "execution_count": 13,
     "metadata": {},
     "output_type": "execute_result"
    }
   ],
   "source": [
    "res"
   ]
  },
  {
   "cell_type": "code",
   "execution_count": 25,
   "metadata": {},
   "outputs": [
    {
     "data": {
      "text/plain": [
       "['20200414 06:30:00', 279.875, 285.965, 278.06, 285.885, -1]"
      ]
     },
     "execution_count": 25,
     "metadata": {},
     "output_type": "execute_result"
    }
   ],
   "source": [
    "res[0]"
   ]
  },
  {
   "cell_type": "code",
   "execution_count": null,
   "metadata": {},
   "outputs": [],
   "source": []
  }
 ],
 "metadata": {
  "kernelspec": {
   "display_name": "Python 3",
   "language": "python",
   "name": "python3"
  },
  "language_info": {
   "codemirror_mode": {
    "name": "ipython",
    "version": 3
   },
   "file_extension": ".py",
   "mimetype": "text/x-python",
   "name": "python",
   "nbconvert_exporter": "python",
   "pygments_lexer": "ipython3",
   "version": "3.6.5"
  }
 },
 "nbformat": 4,
 "nbformat_minor": 4
}
