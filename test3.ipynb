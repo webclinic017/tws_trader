{
 "cells": [
  {
   "cell_type": "markdown",
   "metadata": {},
   "source": [
    "Цель этого ноутбука - внедрить в проект официальную библиотеку ibapi и понять как ею пользоваться"
   ]
  },
  {
   "cell_type": "code",
   "execution_count": 4,
   "metadata": {},
   "outputs": [],
   "source": [
    "import time\n",
    "\n",
    "from ibapi.client import EClient\n",
    "from ibapi.wrapper import EWrapper\n",
    "from ibapi.contract import Contract\n",
    "from ibapi.common import BarData\n",
    "\n",
    "import datetime\n",
    "\n",
    "import contracts"
   ]
  },
  {
   "cell_type": "code",
   "execution_count": 2,
   "metadata": {},
   "outputs": [
    {
     "name": "stdout",
     "output_type": "stream",
     "text": [
      "setting nextValidOrderId: %d 1\n",
      "Error. Id:  -1  Code:  2158  Msg:  Sec-def data farm connection is OK:secdefeu\n",
      "Error. Id:  -1  Code:  2105  Msg:  HMDS data farm connection is broken:cashhmds\n",
      "Error. Id:  -1  Code:  2106  Msg:  HMDS data farm connection is OK:cashhmds\n",
      "HistoricalData. ReqId: 4102 BarData. Date: 20190925, Open: 107.045000, High: 107.885500, Low: 107.001500, Close: 107.771000, Volume: -1, Average: -1.000000, BarCount: -1\n",
      "HistoricalData. ReqId: 4102 BarData. Date: 20190926, Open: 107.762500, High: 107.959000, Low: 107.423000, Close: 107.837500, Volume: -1, Average: -1.000000, BarCount: -1\n",
      "HistoricalData. ReqId: 4102 BarData. Date: 20190927, Open: 107.833000, High: 108.182500, Low: 107.656500, Close: 107.950000, Volume: -1, Average: -1.000000, BarCount: -1\n",
      "HistoricalData. ReqId: 4102 BarData. Date: 20190930, Open: 107.990000, High: 108.179500, Low: 107.743500, Close: 108.084000, Volume: -1, Average: -1.000000, BarCount: -1\n",
      "HistoricalData. ReqId: 4102 BarData. Date: 20191001, Open: 108.117500, High: 108.470500, Low: 107.627000, Close: 107.746500, Volume: -1, Average: -1.000000, BarCount: -1\n",
      "HistoricalData. ReqId: 4102 BarData. Date: 20191002, Open: 107.737500, High: 107.893500, Low: 107.046500, Close: 107.182500, Volume: -1, Average: -1.000000, BarCount: -1\n",
      "HistoricalData. ReqId: 4102 BarData. Date: 20191003, Open: 107.156500, High: 107.299500, Low: 106.484000, Close: 106.918000, Volume: -1, Average: -1.000000, BarCount: -1\n",
      "HistoricalData. ReqId: 4102 BarData. Date: 20191004, Open: 106.900500, High: 107.134500, Low: 106.582500, Close: 106.922000, Volume: -1, Average: -1.000000, BarCount: -1\n",
      "HistoricalData. ReqId: 4102 BarData. Date: 20191007, Open: 106.780000, High: 107.466500, Low: 106.658000, Close: 107.263000, Volume: -1, Average: -1.000000, BarCount: -1\n",
      "HistoricalData. ReqId: 4102 BarData. Date: 20191008, Open: 107.220000, High: 107.445500, Low: 106.806000, Close: 107.085000, Volume: -1, Average: -1.000000, BarCount: -1\n",
      "HistoricalData. ReqId: 4102 BarData. Date: 20191009, Open: 107.047500, High: 107.629000, Low: 106.934000, Close: 107.478500, Volume: -1, Average: -1.000000, BarCount: -1\n",
      "HistoricalData. ReqId: 4102 BarData. Date: 20191010, Open: 107.505000, High: 108.020000, Low: 107.035500, Close: 107.972000, Volume: -1, Average: -1.000000, BarCount: -1\n",
      "HistoricalData. ReqId: 4102 BarData. Date: 20191011, Open: 107.967500, High: 108.631500, Low: 107.850500, Close: 108.403500, Volume: -1, Average: -1.000000, BarCount: -1\n",
      "HistoricalData. ReqId: 4102 BarData. Date: 20191014, Open: 108.377500, High: 108.522500, Low: 108.033000, Close: 108.397500, Volume: -1, Average: -1.000000, BarCount: -1\n",
      "HistoricalData. ReqId: 4102 BarData. Date: 20191015, Open: 108.412500, High: 108.899500, Low: 108.156500, Close: 108.859000, Volume: -1, Average: -1.000000, BarCount: -1\n",
      "HistoricalData. ReqId: 4102 BarData. Date: 20191016, Open: 108.857500, High: 108.866500, Low: 108.562000, Close: 108.770000, Volume: -1, Average: -1.000000, BarCount: -1\n",
      "HistoricalData. ReqId: 4102 BarData. Date: 20191017, Open: 108.745500, High: 108.940500, Low: 108.453000, Close: 108.661500, Volume: -1, Average: -1.000000, BarCount: -1\n",
      "HistoricalData. ReqId: 4102 BarData. Date: 20191018, Open: 108.664000, High: 108.723500, Low: 108.376000, Close: 108.419500, Volume: -1, Average: -1.000000, BarCount: -1\n",
      "HistoricalData. ReqId: 4102 BarData. Date: 20191021, Open: 108.502500, High: 108.664000, Low: 108.289000, Close: 108.610000, Volume: -1, Average: -1.000000, BarCount: -1\n",
      "HistoricalData. ReqId: 4102 BarData. Date: 20191022, Open: 108.610000, High: 108.728000, Low: 108.441000, Close: 108.485500, Volume: -1, Average: -1.000000, BarCount: -1\n",
      "HistoricalData. ReqId: 4102 BarData. Date: 20191023, Open: 108.485000, High: 108.705500, Low: 108.249000, Close: 108.693000, Volume: -1, Average: -1.000000, BarCount: -1\n",
      "HistoricalData. ReqId: 4102 BarData. Date: 20191024, Open: 108.675000, High: 108.754000, Low: 108.495500, Close: 108.613000, Volume: -1, Average: -1.000000, BarCount: -1\n",
      "HistoricalDataEnd. ReqId: 4102 from 20190923  21:00:39 to 20191023  21:00:39\n",
      "finished\n"
     ]
    }
   ],
   "source": [
    "class MyWrapper(EWrapper):\n",
    "\n",
    "    def nextValidId(self, orderId:int):\n",
    "        #4 first message received is this one\n",
    "        print(\"setting nextValidOrderId: %d\", orderId)\n",
    "        self.nextValidOrderId = orderId\n",
    "        #5 start requests here\n",
    "        self.start()\n",
    "\n",
    "    def historicalData(self, reqId:int, bar: BarData):\n",
    "        #7 data is received for every bar\n",
    "        print(\"HistoricalData. ReqId:\", reqId, \"BarData.\", bar)\n",
    "\n",
    "    def historicalDataEnd(self, reqId: int, start: str, end: str):\n",
    "        #8 data is finished\n",
    "        print(\"HistoricalDataEnd. ReqId:\", reqId, \"from\", start, \"to\", end)\n",
    "        #9 this is the logical end of your program\n",
    "        app.disconnect()\n",
    "        print(\"finished\")\n",
    "\n",
    "    def error(self, reqId, errorCode, errorString):\n",
    "        # these messages can come anytime.\n",
    "        print(\"Error. Id: \" , reqId, \" Code: \" , errorCode , \" Msg: \" , errorString)\n",
    "\n",
    "    def start(self):\n",
    "        queryTime = (datetime.datetime.today() - datetime.timedelta(days=180)).strftime(\"%Y%m%d %H:%M:%S\")\n",
    "\n",
    "        fx = Contract()\n",
    "        fx.secType = \"CASH\" \n",
    "        fx.symbol = \"USD\"\n",
    "        fx.currency = \"JPY\"\n",
    "        fx.exchange = \"IDEALPRO\"\n",
    "\n",
    "        #6 request data, using fx since I don't have Japanese data\n",
    "        app.reqHistoricalData(4102, fx, queryTime,\"1 M\", \"1 day\", \"MIDPOINT\", 1, 1, False, [])\n",
    "#         app.reqHistoricalData(\n",
    "#             1,\n",
    "#             contract,\n",
    "#             '',\n",
    "#             '1 D',\n",
    "#             '30 mins',\n",
    "#             contract.historical_data_type,\n",
    "#             1,\n",
    "#             1,\n",
    "#             False,\n",
    "#             []\n",
    "#         )\n",
    "\n",
    "app = EClient(MyWrapper()) #1 create wrapper subclass and pass it to EClient\n",
    "app.connect(\"127.0.0.1\", 4001, clientId=0) #2 connect to TWS/IBG\n",
    "app.run() #3 start message thread"
   ]
  },
  {
   "cell_type": "code",
   "execution_count": 16,
   "metadata": {},
   "outputs": [
    {
     "ename": "AttributeError",
     "evalue": "'Stock' object has no attribute 'symbol'",
     "output_type": "error",
     "traceback": [
      "\u001b[0;31m---------------------------------------------------------------------------\u001b[0m",
      "\u001b[0;31mAttributeError\u001b[0m                            Traceback (most recent call last)",
      "\u001b[0;32m<ipython-input-16-db779ddc6cb5>\u001b[0m in \u001b[0;36m<module>\u001b[0;34m\u001b[0m\n\u001b[1;32m     22\u001b[0m             \u001b[0;36m1\u001b[0m\u001b[0;34m,\u001b[0m\u001b[0;34m\u001b[0m\u001b[0m\n\u001b[1;32m     23\u001b[0m             \u001b[0;32mFalse\u001b[0m\u001b[0;34m,\u001b[0m\u001b[0;34m\u001b[0m\u001b[0m\n\u001b[0;32m---> 24\u001b[0;31m             \u001b[0;34m[\u001b[0m\u001b[0;34m]\u001b[0m\u001b[0;34m\u001b[0m\u001b[0m\n\u001b[0m\u001b[1;32m     25\u001b[0m         )\n\u001b[1;32m     26\u001b[0m \u001b[0mtime\u001b[0m\u001b[0;34m.\u001b[0m\u001b[0msleep\u001b[0m\u001b[0;34m(\u001b[0m\u001b[0;36m10\u001b[0m\u001b[0;34m)\u001b[0m\u001b[0;34m\u001b[0m\u001b[0m\n",
      "\u001b[0;32m~/Library/Python/3.6/lib/python/site-packages/ibapi/client.py\u001b[0m in \u001b[0;36mreqHistoricalData\u001b[0;34m(self, reqId, contract, endDateTime, durationStr, barSizeSetting, whatToShow, useRTH, formatDate, keepUpToDate, chartOptions)\u001b[0m\n\u001b[1;32m   2328\u001b[0m         \u001b[0;32mif\u001b[0m \u001b[0mself\u001b[0m\u001b[0;34m.\u001b[0m\u001b[0mserverVersion\u001b[0m\u001b[0;34m(\u001b[0m\u001b[0;34m)\u001b[0m \u001b[0;34m>=\u001b[0m \u001b[0mMIN_SERVER_VER_TRADING_CLASS\u001b[0m\u001b[0;34m:\u001b[0m\u001b[0;34m\u001b[0m\u001b[0m\n\u001b[1;32m   2329\u001b[0m             \u001b[0mflds\u001b[0m \u001b[0;34m+=\u001b[0m \u001b[0;34m[\u001b[0m\u001b[0mmake_field\u001b[0m\u001b[0;34m(\u001b[0m\u001b[0mcontract\u001b[0m\u001b[0;34m.\u001b[0m\u001b[0mconId\u001b[0m\u001b[0;34m)\u001b[0m\u001b[0;34m,\u001b[0m\u001b[0;34m]\u001b[0m\u001b[0;34m\u001b[0m\u001b[0m\n\u001b[0;32m-> 2330\u001b[0;31m         flds += [make_field(contract.symbol),\n\u001b[0m\u001b[1;32m   2331\u001b[0m             \u001b[0mmake_field\u001b[0m\u001b[0;34m(\u001b[0m\u001b[0mcontract\u001b[0m\u001b[0;34m.\u001b[0m\u001b[0msecType\u001b[0m\u001b[0;34m)\u001b[0m\u001b[0;34m,\u001b[0m\u001b[0;34m\u001b[0m\u001b[0m\n\u001b[1;32m   2332\u001b[0m             \u001b[0mmake_field\u001b[0m\u001b[0;34m(\u001b[0m\u001b[0mcontract\u001b[0m\u001b[0;34m.\u001b[0m\u001b[0mlastTradeDateOrContractMonth\u001b[0m\u001b[0;34m)\u001b[0m\u001b[0;34m,\u001b[0m\u001b[0;34m\u001b[0m\u001b[0m\n",
      "\u001b[0;31mAttributeError\u001b[0m: 'Stock' object has no attribute 'symbol'"
     ]
    }
   ],
   "source": [
    "symbol = 'AAPL'\n",
    "barsize = '1 secs' #, '5 secs', '10 secs', '15 secs', '30 secs', '1 min', '2 mins', '3 mins', '5 mins', '10 mins', '15 mins', '20 mins', '30 mins', '1 hour', '2 hours', '3 hours', '4 hours', '8 hours', '1 day', '1 week', '1 month'\n",
    "contract = contracts.Stock(symbol)\n",
    "contract.conId = 0\n",
    "# contract = Contract()\n",
    "# contract.secType = \"CASH\" \n",
    "# contract.symbol = \"USD\"\n",
    "# contract.currency = \"JPY\"\n",
    "# contract.exchange = \"IDEALPRO\"\n",
    "# contract.historical_data_type = 'MIDPOINT'\n",
    "\n",
    "app = EClient(EWrapper()) #1 create wrapper subclass and pass it to EClient\n",
    "app.connect(\"127.0.0.1\", 4001, clientId=0) #2 connect to TWS/IBG\n",
    "app.reqHistoricalData(\n",
    "            1,\n",
    "            contract,\n",
    "            '',\n",
    "            '1 D',\n",
    "            '30 mins',\n",
    "            contract.historical_data_type,\n",
    "            1,\n",
    "            1,\n",
    "            False,\n",
    "            []\n",
    "        )\n",
    "time.sleep(10)\n",
    "app.run() #3 start message thread"
   ]
  },
  {
   "cell_type": "code",
   "execution_count": 14,
   "metadata": {},
   "outputs": [
    {
     "data": {
      "text/plain": [
       "0"
      ]
     },
     "execution_count": 14,
     "metadata": {},
     "output_type": "execute_result"
    }
   ],
   "source": [
    "contract.conId"
   ]
  }
 ],
 "metadata": {
  "kernelspec": {
   "display_name": "Python 3",
   "language": "python",
   "name": "python3"
  },
  "language_info": {
   "codemirror_mode": {
    "name": "ipython",
    "version": 3
   },
   "file_extension": ".py",
   "mimetype": "text/x-python",
   "name": "python",
   "nbconvert_exporter": "python",
   "pygments_lexer": "ipython3",
   "version": "3.6.5"
  }
 },
 "nbformat": 4,
 "nbformat_minor": 4
}
