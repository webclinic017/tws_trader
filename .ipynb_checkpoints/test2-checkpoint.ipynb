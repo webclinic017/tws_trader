{
 "cells": [
  {
   "cell_type": "markdown",
   "metadata": {},
   "source": [
    "Цель этого ноутбука - посмотреть, какие минимальные barsize в исторических данных от брокера для различных типов контрактов. Есть идея организовать базу данных с данными одного универсального (самого маленького) размера barsize."
   ]
  },
  {
   "cell_type": "code",
   "execution_count": 12,
   "metadata": {},
   "outputs": [],
   "source": [
    "import time\n",
    "\n",
    "from ib.ext.ContractDetails import ContractDetails\n",
    "from ib.ext.EClientSocket import EClientSocket\n",
    "from ib.opt import message\n",
    "import numpy as np\n",
    "import pandas as pd\n",
    "\n",
    "import contracts\n",
    "from settings import TWS_CONNECTION, company"
   ]
  },
  {
   "cell_type": "code",
   "execution_count": 13,
   "metadata": {},
   "outputs": [],
   "source": [
    "# Типы контрактов:\n",
    "contract_types = [\n",
    "    'CASH',\n",
    "    'STK',\n",
    "    'IND',\n",
    "    'CFD',\n",
    "    'FUT',\n",
    "    'CONTFUT',\n",
    "    'FUT+CONTFUT',\n",
    "    'OPT',\n",
    "    'FOP',\n",
    "    'BOND',\n",
    "    'FUND',\n",
    "    'CMDTY',\n",
    "    'IOPT'\n",
    "]"
   ]
  },
  {
   "cell_type": "code",
   "execution_count": 19,
   "metadata": {},
   "outputs": [],
   "source": [
    "def test_historical_getter(contract):\n",
    "        res = []\n",
    "#         TWS_CONNECTION.clientId = 3   \n",
    "#         TWS_CONNECTION.register(print, message.Error)\n",
    "#         TWS_CONNECTION.registerAll(print)\n",
    "        TWS_CONNECTION.connect()\n",
    "        TWS_CONNECTION.reqHistoricalData(\n",
    "            1,\n",
    "            contract,\n",
    "            '',\n",
    "            '1 D',\n",
    "            '30 mins',\n",
    "            'TRADES',\n",
    "            1,\n",
    "            1\n",
    "        )\n",
    "        time.sleep(35)\n",
    "        TWS_CONNECTION.disconnect()\n",
    "        print(res)"
   ]
  },
  {
   "cell_type": "code",
   "execution_count": 20,
   "metadata": {},
   "outputs": [
    {
     "name": "stdout",
     "output_type": "stream",
     "text": [
      "Server Version: 76\n",
      "TWS Time at connection:20200413 22:15:00 PST\n",
      "[]\n"
     ]
    }
   ],
   "source": [
    "symbol = 'AAPL'\n",
    "contract = contracts.Stock(symbol)\n",
    "test_historical_getter(contract)"
   ]
  },
  {
   "cell_type": "code",
   "execution_count": 18,
   "metadata": {},
   "outputs": [
    {
     "data": {
      "text/plain": [
       "0"
      ]
     },
     "execution_count": 18,
     "metadata": {},
     "output_type": "execute_result"
    }
   ],
   "source": [
    "TWS_CONNECTION.clientId"
   ]
  },
  {
   "cell_type": "code",
   "execution_count": 18,
   "metadata": {},
   "outputs": [
    {
     "data": {
      "text/plain": [
       "True"
      ]
     },
     "execution_count": 18,
     "metadata": {},
     "output_type": "execute_result"
    }
   ],
   "source": [
    "TWS_CONNECTION.disconnect()"
   ]
  }
 ],
 "metadata": {
  "kernelspec": {
   "display_name": "Python 3",
   "language": "python",
   "name": "python3"
  },
  "language_info": {
   "codemirror_mode": {
    "name": "ipython",
    "version": 3
   },
   "file_extension": ".py",
   "mimetype": "text/x-python",
   "name": "python",
   "nbconvert_exporter": "python",
   "pygments_lexer": "ipython3",
   "version": "3.6.5"
  }
 },
 "nbformat": 4,
 "nbformat_minor": 4
}
